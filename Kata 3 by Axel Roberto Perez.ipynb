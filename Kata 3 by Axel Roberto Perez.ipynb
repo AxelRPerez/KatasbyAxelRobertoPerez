{
 "cells": [
  {
   "cell_type": "markdown",
   "metadata": {},
   "source": [
    "Ejercicio 1\n",
    "\n",
    "Para este ejercicio, escribirás una lógica condicional que imprima una advertencia si un asteroide se acerca a la Tierra demasiado rápido. La velocidad del asteroide varía dependiendo de lo cerca que esté del sol, y cualquier velocidad superior a 25 kilómetros por segundo (km/s) merece una advertencia.\n",
    "\n",
    "Un asteroide se acerca, y viaja a una velocidad de 49 km/s.\n",
    "\n",
    "#Añadir el código necesario para crear una variable que guarde la velocidad del asteroide.\n",
    "\n",
    "#Escribe una expresión de prueba para calcular si necesita una advertencia.\n",
    "\n",
    "#Agregue las instrucciones que se ejecutarán si la expresión de prueba es true o false."
   ]
  },
  {
   "cell_type": "code",
   "execution_count": null,
   "metadata": {},
   "outputs": [],
   "source": [
    "VAsteroide = 49\n",
    "\n",
    "if VAsteroide > 25:\n",
    "    print('!Advertencia! Un asteroide viene a una velocidad peligrosa')\n",
    "else:\n",
    "    print('El asteroide no es una amenaza')"
   ]
  },
  {
   "cell_type": "markdown",
   "metadata": {},
   "source": [
    "#"
   ]
  },
  {
   "cell_type": "markdown",
   "metadata": {},
   "source": [
    "Ejercicio 2\n",
    "\n",
    "Si un asteroide entra en la atmósfera de la Tierra a una velocidad mayor o igual a 20 km/s, a veces produce un rayo de luz que se puede ver desde la Tierra. Escribe la lógica condicional que usa declaraciones if, else, y elif para alertar a las personas de todo el mundo que deben buscar un asteroide en el cielo. ¡Hay uno que se dirige a la tierra ahora a una velocidad de 19 km/s!\n",
    "\n",
    "#Agrega el código para crear una variable para un asteroide que viaja a 19 km/s\n",
    "\n",
    "#Escribe varias expresiones de prueba para determinar si puedes ver el rayo de luz desde la tierra\n",
    "\n",
    "#Agrega las instrucciones que se ejecutarán si las expresiones de prueba son True o False"
   ]
  },
  {
   "cell_type": "code",
   "execution_count": null,
   "metadata": {},
   "outputs": [],
   "source": [
    "VAsteroide = 19\n",
    "\n",
    "if VAsteroide > 20:\n",
    "    print('Un rayo de luz apareció en el cielo')\n",
    "elif VAsteroide == 20:\n",
    "    print('Un rayo de luz apareció en el cielo')\n",
    "else:\n",
    "    print('No se ve nada')"
   ]
  },
  {
   "cell_type": "code",
   "execution_count": null,
   "metadata": {},
   "outputs": [],
   "source": [
    "VAsteroide = 20\n",
    "\n",
    "if VAsteroide > 20:\n",
    "    print('Un rayo de luz apareció en el cielo')\n",
    "elif VAsteroide == 20:\n",
    "    print('Un rayo de luz apareció en el cielo')\n",
    "else:\n",
    "    print('No se ve nada')"
   ]
  },
  {
   "cell_type": "code",
   "execution_count": null,
   "metadata": {},
   "outputs": [],
   "source": [
    "VAsteroide = 30\n",
    "\n",
    "if VAsteroide > 20:\n",
    "    print('Un rayo de luz apareció en el cielo')\n",
    "elif VAsteroide == 20:\n",
    "    print('Un rayo de luz apareció en el cielo')\n",
    "else:\n",
    "    print('No se ve nada')"
   ]
  },
  {
   "cell_type": "markdown",
   "metadata": {},
   "source": [
    "#"
   ]
  },
  {
   "cell_type": "markdown",
   "metadata": {},
   "source": [
    "Ejercicio 3\n",
    "\n",
    "En el ejercicio anterior, trabajó con sentencias if, else, y elif para escribir programas con lógica condicional compleja. Para crear expresiones booleanas aún más interesantes, puede usar los operadores and y or en Python.\n",
    "\n",
    "Las expresiones and son sólo si ambas subexpresiones son verdaderas.\n",
    "\n",
    "expresión1 and expresión2\n",
    "\n",
    "Las expresiones or son True si al menos una subexpresión es verdadera.\n",
    "\n",
    "expresión1 or expresión2\n",
    "\n",
    "En este ejercicio, aprenderás información más matizada sobre cuándo los asteroides representan un peligro para la Tierra, y utilizarás esa información para mejorar nuestro sistema de advertencia. Aquí está la nueva información que necesitas saber:\n",
    "\n",
    "*Los asteroides de menos de 25 metros en su dimensión más grande probablemente se quemarán a medida que entren en la atmósfera de la Tierra.\n",
    "\n",
    ".Si una pieza de un asteroide que es más grande que 25 metros pero más pequeña que 1000 metros golpeara la Tierra, causaría mucho daño.\n",
    "\n",
    "También discutimos en el ejercicio anterior que:\n",
    "\n",
    ".La velocidad del asteroide varía en función de lo cerca que esté del sol, y cualquier velocidad superior a 25 kilómetros por segundo (km/s) merece una advertencia.\n",
    "\n",
    ".Si un asteroide entra en la atmósfera de la Tierra a una velocidad mayor o igual a 20 km/s, a veces produce un rayo de luz que se puede ver desde la Tierra.\n",
    "\n",
    "Usando toda esta información, escribe un programa que emita la advertencia o información correcta a la gente de la Tierra, según la velocidad y el tamaño de un asteroide. Utiliza instrucciones if, else, y elif, así como los operadores and y or.\n",
    "\n",
    "#Agrega el código para crear nuevas variables para la velocidad y el tamaño del asteroide\n",
    "\n",
    "#Para probar el código, prueba con varias velocidades y tamaños\n",
    "\n",
    "#Escribe varias expresiones de prueba o combinaciones de expresiones de prueba para determinar qué mensaje se debe enviar a Tierra."
   ]
  },
  {
   "cell_type": "code",
   "execution_count": null,
   "metadata": {},
   "outputs": [],
   "source": [
    "TAsteroide = 15 \n",
    "VAsteroide = 30\n",
    "\n",
    "if TAsteroide > 25 and VAsteroide > 25:\n",
    "    print('!WARNING! Un asteroide de un tamaño y velocidad peligroso se acerca a la tierra')\n",
    "elif VAsteroide >= 20:\n",
    "    print('Se aprecia una rayo de luz en el cielo')\n",
    "else:\n",
    "    print('No hay nada de que preocuparse')"
   ]
  },
  {
   "cell_type": "code",
   "execution_count": null,
   "metadata": {},
   "outputs": [],
   "source": [
    "TAsteroide = 100\n",
    "VAsteroide = 30\n",
    "\n",
    "if TAsteroide > 25 and VAsteroide > 25:\n",
    "    print('!WARNING! Un asteroide de un tamaño y velocidad peligroso se acerca a la tierra')\n",
    "elif VAsteroide >= 20:\n",
    "    print('Se aprecia una rayo de luz en el cielo')\n",
    "else:\n",
    "    print('No hay nada de que preocuparse')"
   ]
  },
  {
   "cell_type": "code",
   "execution_count": null,
   "metadata": {},
   "outputs": [],
   "source": [
    "TAsteroide = 20\n",
    "VAsteroide = 15\n",
    "\n",
    "if TAsteroide > 25 and VAsteroide > 25:\n",
    "    print('!WARNING! Un asteroide de un tamaño y velocidad peligroso se acerca a la tierra')\n",
    "elif VAsteroide >= 20:\n",
    "    print('Se aprecia una rayo de luz en el cielo')\n",
    "else:\n",
    "    print('No hay nada de que preocuparse')"
   ]
  },
  {
   "cell_type": "code",
   "execution_count": null,
   "metadata": {},
   "outputs": [],
   "source": [
    "TAsteroide = 15 \n",
    "VAsteroide = 30\n",
    "\n",
    "if TAsteroide > 25 or VAsteroide > 25:\n",
    "    if TAsteroide > 25:\n",
    "        print('!WARNING! Se acerca un peligroso asteroide a la tierra')\n",
    "    elif VAsteroide > 25:\n",
    "        print('!WARNING! Se acerca a gran velocidad un asteroide')\n",
    "elif VAsteroide >= 20:\n",
    "    print('Se aprecia una rayo de luz en el cielo')\n",
    "else:\n",
    "    print('No hay nada de que preocuparse')"
   ]
  },
  {
   "cell_type": "code",
   "execution_count": null,
   "metadata": {},
   "outputs": [],
   "source": [
    "TAsteroide = 10\n",
    "VAsteroide = 10\n",
    "\n",
    "if TAsteroide > 25 or VAsteroide > 25:\n",
    "    if TAsteroide > 25:\n",
    "        print('!WARNING! Se acerca un peligroso asteroide a la tierra')\n",
    "    elif VAsteroide > 25:\n",
    "        print('!WARNING! Se acerca a gran velocidad un asteroide')\n",
    "elif VAsteroide >= 20:\n",
    "    print('Se aprecia una rayo de luz en el cielo')\n",
    "else:\n",
    "    print('No hay nada de que preocuparse')"
   ]
  }
 ],
 "metadata": {
  "interpreter": {
   "hash": "81bca0b7cda7fd8661008880db94adbd6c6d66efd61f99397d8aa67b77401296"
  },
  "kernelspec": {
   "display_name": "Python 3.10.2 64-bit",
   "language": "python",
   "name": "python3"
  },
  "language_info": {
   "codemirror_mode": {
    "name": "ipython",
    "version": 3
   },
   "file_extension": ".py",
   "mimetype": "text/x-python",
   "name": "python",
   "nbconvert_exporter": "python",
   "pygments_lexer": "ipython3",
   "version": "3.10.2"
  },
  "orig_nbformat": 4
 },
 "nbformat": 4,
 "nbformat_minor": 2
}
